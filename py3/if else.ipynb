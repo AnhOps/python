{
 "cells": [
  {
   "cell_type": "code",
   "execution_count": null,
   "metadata": {},
   "outputs": [],
   "source": [
    "a = 3\n",
    "b = 4\n",
    "if a < b:\n",
    "    print('a is less than b')\n",
    "    print('a is definitely less than b')\n",
    "print('Not sure if a is less than b')"
   ]
  },
  {
   "cell_type": "code",
   "execution_count": null,
   "metadata": {},
   "outputs": [],
   "source": [
    "c = 3\n",
    "d = 4\n",
    "if c < d:\n",
    "    print('c is less than d')\n",
    "else:\n",
    "    print('c is NOT less than d')\n",
    "print('out side the if block')"
   ]
  },
  {
   "cell_type": "code",
   "execution_count": null,
   "metadata": {},
   "outputs": [],
   "source": [
    "e = 5\n",
    "f = 4\n",
    "if e < f:\n",
    "    print('e is less than f')\n",
    "elif e == f:\n",
    "    print('e is equal to f')\n",
    "else:\n",
    "    print('e is greater than f')"
   ]
  }
 ],
 "metadata": {
  "kernelspec": {
   "display_name": "Python 3",
   "language": "python",
   "name": "python3"
  },
  "language_info": {
   "codemirror_mode": {
    "name": "ipython",
    "version": 3
   },
   "file_extension": ".py",
   "mimetype": "text/x-python",
   "name": "python",
   "nbconvert_exporter": "python",
   "pygments_lexer": "ipython3",
   "version": "3.6.4"
  }
 },
 "nbformat": 4,
 "nbformat_minor": 2
}
